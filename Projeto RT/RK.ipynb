{
 "cells": [
  {
   "cell_type": "code",
   "execution_count": 3,
   "metadata": {},
   "outputs": [],
   "source": [
    "import pandas as pd\n",
    "import numpy as np"
   ]
  },
  {
   "cell_type": "code",
   "execution_count": null,
   "metadata": {},
   "outputs": [],
   "source": [
    "def Suscetivel (s, i, beta, b, u) :\n",
    "    return s * b - (beta*s*i) - s*u\n",
    "def infectado (s ,i ,beta ,teta ,u ) :\n",
    "    return ( beta*s*i) - u*i - teta * i\n",
    "def rk4_si_step (s , i ,beta ,dt ,b , u , teta ) :\n",
    "    # Calculos para Suscetiveis\n",
    "    k1_s = dt * Suscetivel (s , i , beta ,b , u )\n",
    "    k2_s = dt * Suscetivel ( s + 0.5* k1_s , i + 0.5* k1_s ,\n",
    "    beta ,b , u )\n",
    "    k3_s = dt * Suscetivel ( s + 0.5* k2_s , i + 0.5* k2_s ,\n",
    "    beta ,b , u )\n",
    "    k4_s = dt * Suscetivel ( s + k3_s , i + k3_s , beta ,b , u )\n",
    "    # Calculos para Infectados\n",
    "    k1_i = dt * infectado (s , i , beta , teta , u )\n",
    "    k2_i = dt * infectado ( s + 0.5* k1_i , i + 0.5* k1_i ,\n",
    "    beta , teta , u )\n",
    "    k3_i = dt * infectado ( s + 0.5* k2_i , i + 0.5* k2_i ,\n",
    "    beta, teta, u )\n",
    "    k4_i = dt * infectado ( s + k3_i , i + k3_i , beta , teta,\n",
    "    u)\n",
    "    # Atualizacao de Suscetiveis e Infectados\n",
    "    s_next = s + ( k1_s + 2* k2_s + 2* k3_s + k4_s ) / 6\n",
    "    i_next = i + ( k1_i + 2* k2_i + 2* k3_i + k4_i ) / 6\n",
    "    return s_next , i_next"
   ]
  },
  {
   "cell_type": "code",
   "execution_count": null,
   "metadata": {},
   "outputs": [],
   "source": [
    "# Parametros iniciais e de simulacao\n",
    "N = 1000 # Populacao total\n",
    "s0 = 999 # Numero inicial de suscetiveis\n",
    "i0 = 1 # Numero inicial de infectados\n",
    "beta = 0.3 / N # Taxa de transmissao\n",
    "dt = 0.5 # Passo de tempo\n",
    "tf = 60 # Tempo final\n",
    "b = 0.05 # Fluxo de entrada\n",
    "u = 0.01 # Fluxo de Saida - tipo 1\n",
    "teta = 0.0 # Fluxo de Saida - tipo 2\n",
    "\n",
    "# Listas para armazenar os resultados da simulacao\n",
    "s_values , i_values , t_values = [ s0 ] , [ i0 ] , [0]\n",
    "# Loop de s i m u l a o\n",
    "s , i = s0 , i0\n",
    "for t in range (1 , int ( tf / dt ) + 1) :\n",
    "s , i = rk4_si_step (s , i , beta , dt , b ,u , teta )\n",
    "s_values . append ( s )\n",
    "i_values . append ( i )\n",
    "t_values . append ( t * dt )\n",
    "df_si = pd . DataFrame ({\n",
    "' Tempo ': t_values ,\n",
    "' Suscetiveis ': s_values ,\n",
    "' Infectados ': i_values\n",
    "})\n",
    "df_si . to_csv ( ' RK_approx.csv ')"
   ]
  },
  {
   "cell_type": "code",
   "execution_count": 28,
   "metadata": {},
   "outputs": [],
   "source": [
    "import math\n",
    "def f(t,a,b):\n",
    "    print(a*math.cos(t*0.5)*math.exp(b*t)*b)\n",
    "    return a*math.cos(t*0.5)*math.exp(b*t)*b\n",
    "\n",
    "def rk4_si_step (dt,y,t,a,b) :\n",
    "    # Calculos para Suscetiveis\n",
    "    k1_s = dt * f(t,a,b)\n",
    "    k2_s = dt * f(t + 0.5*k1_s,a,b)\n",
    "    k3_s = dt * f(t + 0.5* k2_s,a,b)\n",
    "    k4_s = dt * f(t + k3_s,a,b)\n",
    "    # Atualizacao de Suscetiveis e Infectados\n",
    "    y_next = y + ( k1_s + 2* k2_s + 2* k3_s + k4_s ) / 6\n",
    "    return y_next"
   ]
  },
  {
   "cell_type": "code",
   "execution_count": 29,
   "metadata": {},
   "outputs": [
    {
     "name": "stdout",
     "output_type": "stream",
     "text": [
      "38.90704068750746\n",
      "7546603632.581816\n"
     ]
    },
    {
     "ename": "OverflowError",
     "evalue": "math range error",
     "output_type": "error",
     "traceback": [
      "\u001b[1;31m---------------------------------------------------------------------------\u001b[0m",
      "\u001b[1;31mOverflowError\u001b[0m                             Traceback (most recent call last)",
      "Cell \u001b[1;32mIn[29], line 16\u001b[0m\n\u001b[0;32m     14\u001b[0m y \u001b[38;5;241m=\u001b[39m y0\n\u001b[0;32m     15\u001b[0m \u001b[38;5;28;01mfor\u001b[39;00m t \u001b[38;5;129;01min\u001b[39;00m \u001b[38;5;28mrange\u001b[39m (\u001b[38;5;241m1\u001b[39m , \u001b[38;5;28mint\u001b[39m ( tf \u001b[38;5;241m/\u001b[39m dt ) \u001b[38;5;241m+\u001b[39m \u001b[38;5;241m1\u001b[39m) :\n\u001b[1;32m---> 16\u001b[0m     y \u001b[38;5;241m=\u001b[39m \u001b[43mrk4_si_step\u001b[49m\u001b[43m \u001b[49m\u001b[43m(\u001b[49m\u001b[43mdt\u001b[49m\u001b[43m,\u001b[49m\u001b[43my\u001b[49m\u001b[43m,\u001b[49m\u001b[43mt\u001b[49m\u001b[43m,\u001b[49m\u001b[43ma\u001b[49m\u001b[43m,\u001b[49m\u001b[43mb\u001b[49m\u001b[43m)\u001b[49m\n\u001b[0;32m     17\u001b[0m     y_values \u001b[38;5;241m.\u001b[39m append ( y )\n\u001b[0;32m     18\u001b[0m     t_values \u001b[38;5;241m.\u001b[39m append ( t \u001b[38;5;241m*\u001b[39m dt )\n",
      "Cell \u001b[1;32mIn[28], line 10\u001b[0m, in \u001b[0;36mrk4_si_step\u001b[1;34m(dt, y, t, a, b)\u001b[0m\n\u001b[0;32m      8\u001b[0m k1_s \u001b[38;5;241m=\u001b[39m dt \u001b[38;5;241m*\u001b[39m f(t,a,b)\n\u001b[0;32m      9\u001b[0m k2_s \u001b[38;5;241m=\u001b[39m dt \u001b[38;5;241m*\u001b[39m f(t \u001b[38;5;241m+\u001b[39m \u001b[38;5;241m0.5\u001b[39m\u001b[38;5;241m*\u001b[39mk1_s,a,b)\n\u001b[1;32m---> 10\u001b[0m k3_s \u001b[38;5;241m=\u001b[39m dt \u001b[38;5;241m*\u001b[39m \u001b[43mf\u001b[49m\u001b[43m(\u001b[49m\u001b[43mt\u001b[49m\u001b[43m \u001b[49m\u001b[38;5;241;43m+\u001b[39;49m\u001b[43m \u001b[49m\u001b[38;5;241;43m0.5\u001b[39;49m\u001b[38;5;241;43m*\u001b[39;49m\u001b[43m \u001b[49m\u001b[43mk2_s\u001b[49m\u001b[43m,\u001b[49m\u001b[43ma\u001b[49m\u001b[43m,\u001b[49m\u001b[43mb\u001b[49m\u001b[43m)\u001b[49m\n\u001b[0;32m     11\u001b[0m k4_s \u001b[38;5;241m=\u001b[39m dt \u001b[38;5;241m*\u001b[39m f(t \u001b[38;5;241m+\u001b[39m k3_s,a,b)\n\u001b[0;32m     12\u001b[0m \u001b[38;5;66;03m# Atualizacao de Suscetiveis e Infectados\u001b[39;00m\n",
      "Cell \u001b[1;32mIn[28], line 3\u001b[0m, in \u001b[0;36mf\u001b[1;34m(t, a, b)\u001b[0m\n\u001b[0;32m      2\u001b[0m \u001b[38;5;28;01mdef\u001b[39;00m \u001b[38;5;21mf\u001b[39m(t,a,b):\n\u001b[1;32m----> 3\u001b[0m     \u001b[38;5;28mprint\u001b[39m(a\u001b[38;5;241m*\u001b[39mmath\u001b[38;5;241m.\u001b[39mcos(t\u001b[38;5;241m*\u001b[39m\u001b[38;5;241m0.5\u001b[39m)\u001b[38;5;241m*\u001b[39m\u001b[43mmath\u001b[49m\u001b[38;5;241;43m.\u001b[39;49m\u001b[43mexp\u001b[49m\u001b[43m(\u001b[49m\u001b[43mb\u001b[49m\u001b[38;5;241;43m*\u001b[39;49m\u001b[43mt\u001b[49m\u001b[43m)\u001b[49m\u001b[38;5;241m*\u001b[39mb)\n\u001b[0;32m      4\u001b[0m     \u001b[38;5;28;01mreturn\u001b[39;00m a\u001b[38;5;241m*\u001b[39mmath\u001b[38;5;241m.\u001b[39mcos(t\u001b[38;5;241m*\u001b[39m\u001b[38;5;241m0.5\u001b[39m)\u001b[38;5;241m*\u001b[39mmath\u001b[38;5;241m.\u001b[39mexp(b\u001b[38;5;241m*\u001b[39mt)\u001b[38;5;241m*\u001b[39mb\n",
      "\u001b[1;31mOverflowError\u001b[0m: math range error"
     ]
    }
   ],
   "source": [
    "# Parametros iniciais e de simulacao\n",
    "n = 1\n",
    "t0 = 0\n",
    "dt = 0.5 # Passo de tempo\n",
    "tf = 100 # Tempo final\n",
    "a = 3 # coeficiente\n",
    "b = 2 # coeficiente\n",
    "y0 = a\n",
    "\n",
    "\n",
    "\n",
    "y_values , t_values = [ y0 ] , [0]\n",
    "# Loop de s i m u l a o\n",
    "y = y0\n",
    "for t in range (1 , int ( tf / dt ) + 1) :\n",
    "    y = rk4_si_step (dt,y,t,a,b)\n",
    "    y_values . append ( y )\n",
    "    t_values . append ( t * dt )\n",
    "\n",
    "    df_manufat = pd . DataFrame ({\n",
    "    ' Tempo ': t_values ,\n",
    "    ' Y ': y_values ,\n",
    "    })\n",
    "#df_manufat.to_csv( ' solucao-manufaturada.csv ')"
   ]
  },
  {
   "cell_type": "code",
   "execution_count": 30,
   "metadata": {},
   "outputs": [
    {
     "name": "stdout",
     "output_type": "stream",
     "text": [
      "O valor estimado de y em x = 0.5 é 1.648721229515874\n"
     ]
    }
   ],
   "source": [
    "def runge_kutta_4(f, t0, y0, tn, n):\n",
    "    \"\"\"\n",
    "    Resolve uma EDO usando o método de Runge-Kutta de quarta ordem.\n",
    "\n",
    "    Parâmetros:\n",
    "    - f: Função da EDO, y' = f(x, y)\n",
    "    - x0: Valor inicial de x\n",
    "    - y0: Valor inicial de y\n",
    "    - xn: Valor de x onde queremos estimar y\n",
    "    - n: Número de passos\n",
    "\n",
    "    Retorna:\n",
    "    - Valor estimado de y em xn\n",
    "    \"\"\"\n",
    "    # Calcula o tamanho do passo\n",
    "    dt = (tn - t0) / n\n",
    "    \n",
    "    # Inicializa y como y0\n",
    "    y = y0\n",
    "    \n",
    "    # Itera n vezes\n",
    "    for _ in range(n):\n",
    "        k1 = dt * f(t0, y)\n",
    "        k2 = dt * f(t0 + 0.5 * dt, y + 0.5 * k1)\n",
    "        k3 = dt * f(t0 + 0.5 * dt, y + 0.5 * k2)\n",
    "        k4 = dt * f(t0 + dt, y + k3)\n",
    "        \n",
    "        # Atualiza o valor de y\n",
    "        y += (k1 + 2*k2 + 2*k3 + k4) / 6\n",
    "        \n",
    "        # Atualiza o valor de x\n",
    "        t0 += dt\n",
    "    \n",
    "    return y\n",
    "\n",
    "def f(t,a,b):\n",
    "    return a*math.cos(t*0.5)*math.exp(b*t)*b\n",
    "\n",
    "a = 3\n",
    "b = 2\n",
    "t0 = 0\n",
    "tn = 2\n",
    "y0 = 1\n",
    "\n",
    "for n in range\n",
    "\n",
    "\n",
    "t_estimado = [t0]\n",
    "y_estimado = [y0]\n",
    "\n"
   ]
  }
 ],
 "metadata": {
  "kernelspec": {
   "display_name": "Python 3",
   "language": "python",
   "name": "python3"
  },
  "language_info": {
   "codemirror_mode": {
    "name": "ipython",
    "version": 3
   },
   "file_extension": ".py",
   "mimetype": "text/x-python",
   "name": "python",
   "nbconvert_exporter": "python",
   "pygments_lexer": "ipython3",
   "version": "3.11.4"
  }
 },
 "nbformat": 4,
 "nbformat_minor": 2
}
